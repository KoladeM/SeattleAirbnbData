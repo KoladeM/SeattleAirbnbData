{
 "cells": [
  {
   "cell_type": "markdown",
   "id": "7bf08e58",
   "metadata": {},
   "source": [
    "<h2 id='part1'>CRISP-DM Process of the Seatle Airbnb Data</h2>\n",
    "This Notebook illustrates the stepwise CRISP-DM process applied to the Seatle Airbnb Data"
   ]
  },
  {
   "cell_type": "markdown",
   "id": "40bbe8b7",
   "metadata": {},
   "source": [
    "<h3 id='q1'>Section 1: Business Understanding</h3>\n",
    "The Notebook answers the following Business questions:\n",
    "\n",
    "   **1.** Is there a correlation between listings with higher ratings and price tag ? We want to know if pricier listings generally have better ratings.\n",
    "   \n",
    "   **2.** Are some locations generally more expensive than other locations ?\n",
    "   \n",
    "   **3.** Do some locations get better cleanliness ratings ?\n",
    "   \n",
    "   **4.** Are expensive locations also the cleanest locations ?"
   ]
  },
  {
   "cell_type": "markdown",
   "id": "4dbb36ca",
   "metadata": {},
   "source": [
    "<h3 id='q1'>Section 2: Data Understanding 1</h3>"
   ]
  },
  {
   "cell_type": "code",
   "execution_count": 25,
   "id": "ea504103",
   "metadata": {},
   "outputs": [],
   "source": [
    "import numpy as np\n",
    "import pandas as pd\n",
    "import matplotlib.pyplot as plt\n",
    "import seaborn as sns\n",
    "from scipy import stats"
   ]
  },
  {
   "cell_type": "markdown",
   "id": "6ea4a8ad",
   "metadata": {},
   "source": [
    "***Reading in the data***"
   ]
  },
  {
   "cell_type": "code",
   "execution_count": 26,
   "id": "d2fd3507",
   "metadata": {},
   "outputs": [],
   "source": [
    "df_calendar = pd.read_csv('./calendar.csv')\n",
    "df_listings = pd.read_csv('./listings.csv')\n",
    "df_reviews = pd.read_csv('./reviews.csv')"
   ]
  },
  {
   "cell_type": "markdown",
   "id": "b0f30a54",
   "metadata": {},
   "source": [
    "***Visualizing the data feilds***"
   ]
  },
  {
   "cell_type": "code",
   "execution_count": 27,
   "id": "9adc34c1",
   "metadata": {},
   "outputs": [
    {
     "data": {
      "text/html": [
       "<div>\n",
       "<style scoped>\n",
       "    .dataframe tbody tr th:only-of-type {\n",
       "        vertical-align: middle;\n",
       "    }\n",
       "\n",
       "    .dataframe tbody tr th {\n",
       "        vertical-align: top;\n",
       "    }\n",
       "\n",
       "    .dataframe thead th {\n",
       "        text-align: right;\n",
       "    }\n",
       "</style>\n",
       "<table border=\"1\" class=\"dataframe\">\n",
       "  <thead>\n",
       "    <tr style=\"text-align: right;\">\n",
       "      <th></th>\n",
       "      <th>listing_id</th>\n",
       "      <th>date</th>\n",
       "      <th>available</th>\n",
       "      <th>price</th>\n",
       "    </tr>\n",
       "  </thead>\n",
       "  <tbody>\n",
       "    <tr>\n",
       "      <th>0</th>\n",
       "      <td>241032</td>\n",
       "      <td>2016-01-04</td>\n",
       "      <td>t</td>\n",
       "      <td>$85.00</td>\n",
       "    </tr>\n",
       "    <tr>\n",
       "      <th>1</th>\n",
       "      <td>241032</td>\n",
       "      <td>2016-01-05</td>\n",
       "      <td>t</td>\n",
       "      <td>$85.00</td>\n",
       "    </tr>\n",
       "    <tr>\n",
       "      <th>2</th>\n",
       "      <td>241032</td>\n",
       "      <td>2016-01-06</td>\n",
       "      <td>f</td>\n",
       "      <td>NaN</td>\n",
       "    </tr>\n",
       "    <tr>\n",
       "      <th>3</th>\n",
       "      <td>241032</td>\n",
       "      <td>2016-01-07</td>\n",
       "      <td>f</td>\n",
       "      <td>NaN</td>\n",
       "    </tr>\n",
       "    <tr>\n",
       "      <th>4</th>\n",
       "      <td>241032</td>\n",
       "      <td>2016-01-08</td>\n",
       "      <td>f</td>\n",
       "      <td>NaN</td>\n",
       "    </tr>\n",
       "  </tbody>\n",
       "</table>\n",
       "</div>"
      ],
      "text/plain": [
       "   listing_id        date available   price\n",
       "0      241032  2016-01-04         t  $85.00\n",
       "1      241032  2016-01-05         t  $85.00\n",
       "2      241032  2016-01-06         f     NaN\n",
       "3      241032  2016-01-07         f     NaN\n",
       "4      241032  2016-01-08         f     NaN"
      ]
     },
     "execution_count": 27,
     "metadata": {},
     "output_type": "execute_result"
    }
   ],
   "source": [
    "df_calendar.head()"
   ]
  },
  {
   "cell_type": "code",
   "execution_count": 28,
   "id": "ee63e036",
   "metadata": {},
   "outputs": [
    {
     "data": {
      "text/plain": [
       "Index(['id', 'listing_url', 'scrape_id', 'last_scraped', 'name', 'summary',\n",
       "       'space', 'description', 'experiences_offered', 'neighborhood_overview',\n",
       "       'notes', 'transit', 'thumbnail_url', 'medium_url', 'picture_url',\n",
       "       'xl_picture_url', 'host_id', 'host_url', 'host_name', 'host_since',\n",
       "       'host_location', 'host_about', 'host_response_time',\n",
       "       'host_response_rate', 'host_acceptance_rate', 'host_is_superhost',\n",
       "       'host_thumbnail_url', 'host_picture_url', 'host_neighbourhood',\n",
       "       'host_listings_count', 'host_total_listings_count',\n",
       "       'host_verifications', 'host_has_profile_pic', 'host_identity_verified',\n",
       "       'street', 'neighbourhood', 'neighbourhood_cleansed',\n",
       "       'neighbourhood_group_cleansed', 'city', 'state', 'zipcode', 'market',\n",
       "       'smart_location', 'country_code', 'country', 'latitude', 'longitude',\n",
       "       'is_location_exact', 'property_type', 'room_type', 'accommodates',\n",
       "       'bathrooms', 'bedrooms', 'beds', 'bed_type', 'amenities', 'square_feet',\n",
       "       'price', 'weekly_price', 'monthly_price', 'security_deposit',\n",
       "       'cleaning_fee', 'guests_included', 'extra_people', 'minimum_nights',\n",
       "       'maximum_nights', 'calendar_updated', 'has_availability',\n",
       "       'availability_30', 'availability_60', 'availability_90',\n",
       "       'availability_365', 'calendar_last_scraped', 'number_of_reviews',\n",
       "       'first_review', 'last_review', 'review_scores_rating',\n",
       "       'review_scores_accuracy', 'review_scores_cleanliness',\n",
       "       'review_scores_checkin', 'review_scores_communication',\n",
       "       'review_scores_location', 'review_scores_value', 'requires_license',\n",
       "       'license', 'jurisdiction_names', 'instant_bookable',\n",
       "       'cancellation_policy', 'require_guest_profile_picture',\n",
       "       'require_guest_phone_verification', 'calculated_host_listings_count',\n",
       "       'reviews_per_month'],\n",
       "      dtype='object')"
      ]
     },
     "execution_count": 28,
     "metadata": {},
     "output_type": "execute_result"
    }
   ],
   "source": [
    "df_listings.columns"
   ]
  },
  {
   "cell_type": "code",
   "execution_count": 29,
   "id": "a1c156a0",
   "metadata": {},
   "outputs": [
    {
     "data": {
      "text/html": [
       "<div>\n",
       "<style scoped>\n",
       "    .dataframe tbody tr th:only-of-type {\n",
       "        vertical-align: middle;\n",
       "    }\n",
       "\n",
       "    .dataframe tbody tr th {\n",
       "        vertical-align: top;\n",
       "    }\n",
       "\n",
       "    .dataframe thead th {\n",
       "        text-align: right;\n",
       "    }\n",
       "</style>\n",
       "<table border=\"1\" class=\"dataframe\">\n",
       "  <thead>\n",
       "    <tr style=\"text-align: right;\">\n",
       "      <th></th>\n",
       "      <th>listing_id</th>\n",
       "      <th>id</th>\n",
       "      <th>date</th>\n",
       "      <th>reviewer_id</th>\n",
       "      <th>reviewer_name</th>\n",
       "      <th>comments</th>\n",
       "    </tr>\n",
       "  </thead>\n",
       "  <tbody>\n",
       "    <tr>\n",
       "      <th>0</th>\n",
       "      <td>7202016</td>\n",
       "      <td>38917982</td>\n",
       "      <td>2015-07-19</td>\n",
       "      <td>28943674</td>\n",
       "      <td>Bianca</td>\n",
       "      <td>Cute and cozy place. Perfect location to every...</td>\n",
       "    </tr>\n",
       "    <tr>\n",
       "      <th>1</th>\n",
       "      <td>7202016</td>\n",
       "      <td>39087409</td>\n",
       "      <td>2015-07-20</td>\n",
       "      <td>32440555</td>\n",
       "      <td>Frank</td>\n",
       "      <td>Kelly has a great room in a very central locat...</td>\n",
       "    </tr>\n",
       "    <tr>\n",
       "      <th>2</th>\n",
       "      <td>7202016</td>\n",
       "      <td>39820030</td>\n",
       "      <td>2015-07-26</td>\n",
       "      <td>37722850</td>\n",
       "      <td>Ian</td>\n",
       "      <td>Very spacious apartment, and in a great neighb...</td>\n",
       "    </tr>\n",
       "    <tr>\n",
       "      <th>3</th>\n",
       "      <td>7202016</td>\n",
       "      <td>40813543</td>\n",
       "      <td>2015-08-02</td>\n",
       "      <td>33671805</td>\n",
       "      <td>George</td>\n",
       "      <td>Close to Seattle Center and all it has to offe...</td>\n",
       "    </tr>\n",
       "    <tr>\n",
       "      <th>4</th>\n",
       "      <td>7202016</td>\n",
       "      <td>41986501</td>\n",
       "      <td>2015-08-10</td>\n",
       "      <td>34959538</td>\n",
       "      <td>Ming</td>\n",
       "      <td>Kelly was a great host and very accommodating ...</td>\n",
       "    </tr>\n",
       "  </tbody>\n",
       "</table>\n",
       "</div>"
      ],
      "text/plain": [
       "   listing_id        id        date  reviewer_id reviewer_name  \\\n",
       "0     7202016  38917982  2015-07-19     28943674        Bianca   \n",
       "1     7202016  39087409  2015-07-20     32440555         Frank   \n",
       "2     7202016  39820030  2015-07-26     37722850           Ian   \n",
       "3     7202016  40813543  2015-08-02     33671805        George   \n",
       "4     7202016  41986501  2015-08-10     34959538          Ming   \n",
       "\n",
       "                                            comments  \n",
       "0  Cute and cozy place. Perfect location to every...  \n",
       "1  Kelly has a great room in a very central locat...  \n",
       "2  Very spacious apartment, and in a great neighb...  \n",
       "3  Close to Seattle Center and all it has to offe...  \n",
       "4  Kelly was a great host and very accommodating ...  "
      ]
     },
     "execution_count": 29,
     "metadata": {},
     "output_type": "execute_result"
    }
   ],
   "source": [
    "df_reviews.head()"
   ]
  },
  {
   "cell_type": "markdown",
   "id": "5d79b134",
   "metadata": {},
   "source": [
    "***Checking the percentage of nulls in the calendar dataset***"
   ]
  },
  {
   "cell_type": "code",
   "execution_count": 30,
   "id": "1b7e2698",
   "metadata": {},
   "outputs": [
    {
     "data": {
      "text/plain": [
       "0.32938998399793334"
      ]
     },
     "execution_count": 30,
     "metadata": {},
     "output_type": "execute_result"
    }
   ],
   "source": [
    "df_calendar['price'].isnull().mean()"
   ]
  },
  {
   "cell_type": "markdown",
   "id": "ba844882",
   "metadata": {},
   "source": [
    "***Checking the shape of the calendar dataset***"
   ]
  },
  {
   "cell_type": "code",
   "execution_count": 31,
   "id": "ee93b31d",
   "metadata": {},
   "outputs": [
    {
     "data": {
      "text/plain": [
       "(1393570, 4)"
      ]
     },
     "execution_count": 31,
     "metadata": {},
     "output_type": "execute_result"
    }
   ],
   "source": [
    "df_calendar.shape"
   ]
  },
  {
   "cell_type": "markdown",
   "id": "47580bb2",
   "metadata": {},
   "source": [
    "***Checking for unique values in the calendar dataset***"
   ]
  },
  {
   "cell_type": "code",
   "execution_count": 32,
   "id": "8f8ffbfb",
   "metadata": {},
   "outputs": [
    {
     "data": {
      "text/plain": [
       "3818"
      ]
     },
     "execution_count": 32,
     "metadata": {},
     "output_type": "execute_result"
    }
   ],
   "source": [
    "len(pd.unique(df_calendar['listing_id']))"
   ]
  },
  {
   "cell_type": "markdown",
   "id": "1fe4f02f",
   "metadata": {},
   "source": [
    "***Checking the shape of the listings dataset***"
   ]
  },
  {
   "cell_type": "code",
   "execution_count": 33,
   "id": "450465da",
   "metadata": {},
   "outputs": [
    {
     "data": {
      "text/plain": [
       "(3818, 92)"
      ]
     },
     "execution_count": 33,
     "metadata": {},
     "output_type": "execute_result"
    }
   ],
   "source": [
    "df_listings.shape"
   ]
  },
  {
   "cell_type": "markdown",
   "id": "358d2d69",
   "metadata": {},
   "source": [
    "***Checking the data type of the price column***"
   ]
  },
  {
   "cell_type": "code",
   "execution_count": 34,
   "id": "1d47dbf5",
   "metadata": {},
   "outputs": [
    {
     "data": {
      "text/plain": [
       "'$85.00'"
      ]
     },
     "execution_count": 34,
     "metadata": {},
     "output_type": "execute_result"
    }
   ],
   "source": [
    "df_calendar['price'][0]"
   ]
  },
  {
   "cell_type": "markdown",
   "id": "914af70f",
   "metadata": {},
   "source": [
    "<h3 id='q1'>Section 3: Data Preparation 1</h3>"
   ]
  },
  {
   "cell_type": "markdown",
   "id": "56b02574",
   "metadata": {},
   "source": [
    "***Drop Nan rows***\n",
    "\n",
    "The Nan values of the calendar dataset need to be dropped because they do not help in answering question 1 posed. The average prices across the listings is needed and Nan values do not contribute to averages. "
   ]
  },
  {
   "cell_type": "code",
   "execution_count": 35,
   "id": "cdd709e1",
   "metadata": {},
   "outputs": [],
   "source": [
    "df_calendar_dropna = df_calendar.dropna(subset=['price'], how='any')"
   ]
  },
  {
   "cell_type": "code",
   "execution_count": 36,
   "id": "6a737c65",
   "metadata": {},
   "outputs": [],
   "source": [
    "def convertStringToFloat(x):\n",
    "    \n",
    "    ''' returns a float for each row in the price column that is a string\n",
    "    \n",
    "    input: a row of data in the prices column\n",
    "    \n",
    "    output: the converted value from string to float\n",
    "    '''\n",
    "    \n",
    "    return float(x.replace('$','').replace(',',''))"
   ]
  },
  {
   "cell_type": "markdown",
   "id": "74e443b9",
   "metadata": {},
   "source": [
    "***Convert Price to float***\n",
    "\n",
    "As identified earlier, the price column contains strings and it needs to be converted to float(numerical) to allow for its correlation with the ratings column."
   ]
  },
  {
   "cell_type": "code",
   "execution_count": 37,
   "id": "0bf67f33",
   "metadata": {},
   "outputs": [],
   "source": [
    "# df_calendar_dropna['price'] = df_calendar_dropna['price'].apply(lambda x: float(x.replace('$','').replace(',','')))"
   ]
  },
  {
   "cell_type": "code",
   "execution_count": 38,
   "id": "0482a1c1",
   "metadata": {},
   "outputs": [
    {
     "name": "stderr",
     "output_type": "stream",
     "text": [
      "/var/folders/qz/6vwxy__j4jv671j87ggt5prm0000gn/T/ipykernel_14622/1965064740.py:1: SettingWithCopyWarning: \n",
      "A value is trying to be set on a copy of a slice from a DataFrame.\n",
      "Try using .loc[row_indexer,col_indexer] = value instead\n",
      "\n",
      "See the caveats in the documentation: https://pandas.pydata.org/pandas-docs/stable/user_guide/indexing.html#returning-a-view-versus-a-copy\n",
      "  df_calendar_dropna['price'] = df_calendar_dropna['price'].apply(convertStringToFloat)\n"
     ]
    }
   ],
   "source": [
    "df_calendar_dropna['price'] = df_calendar_dropna['price'].apply(convertStringToFloat)"
   ]
  },
  {
   "cell_type": "markdown",
   "id": "2a21497a",
   "metadata": {},
   "source": [
    "***Aggregate listings by mean price***\n",
    "\n",
    "As mentioned earlier we need the average prices across the listings in the calendar dataste to allow for correlation with the ratings column in the listings dataset"
   ]
  },
  {
   "cell_type": "code",
   "execution_count": 39,
   "id": "266ff8ee",
   "metadata": {},
   "outputs": [],
   "source": [
    "df4 = df_calendar_dropna.groupby('listing_id').agg({'price':'mean' })"
   ]
  },
  {
   "cell_type": "code",
   "execution_count": 40,
   "id": "33ff8fb2",
   "metadata": {},
   "outputs": [
    {
     "data": {
      "text/plain": [
       "(3723, 1)"
      ]
     },
     "execution_count": 40,
     "metadata": {},
     "output_type": "execute_result"
    }
   ],
   "source": [
    "df4.shape"
   ]
  },
  {
   "cell_type": "markdown",
   "id": "68b07012",
   "metadata": {},
   "source": [
    "As we can see from the above, the number of listings has dropped from 3818 to 3723 meaning some of the listings had Nan values throughout the dates. Such Nan values are not useful for our analysis. This concludes the preparation of the calendar dataset"
   ]
  },
  {
   "cell_type": "code",
   "execution_count": 41,
   "id": "60fb76a2",
   "metadata": {},
   "outputs": [
    {
     "data": {
      "text/html": [
       "<div>\n",
       "<style scoped>\n",
       "    .dataframe tbody tr th:only-of-type {\n",
       "        vertical-align: middle;\n",
       "    }\n",
       "\n",
       "    .dataframe tbody tr th {\n",
       "        vertical-align: top;\n",
       "    }\n",
       "\n",
       "    .dataframe thead th {\n",
       "        text-align: right;\n",
       "    }\n",
       "</style>\n",
       "<table border=\"1\" class=\"dataframe\">\n",
       "  <thead>\n",
       "    <tr style=\"text-align: right;\">\n",
       "      <th></th>\n",
       "      <th>price</th>\n",
       "    </tr>\n",
       "    <tr>\n",
       "      <th>listing_id</th>\n",
       "      <th></th>\n",
       "    </tr>\n",
       "  </thead>\n",
       "  <tbody>\n",
       "    <tr>\n",
       "      <th>3335</th>\n",
       "      <td>120.000000</td>\n",
       "    </tr>\n",
       "    <tr>\n",
       "      <th>4291</th>\n",
       "      <td>82.000000</td>\n",
       "    </tr>\n",
       "    <tr>\n",
       "      <th>5682</th>\n",
       "      <td>53.944984</td>\n",
       "    </tr>\n",
       "    <tr>\n",
       "      <th>6606</th>\n",
       "      <td>92.849315</td>\n",
       "    </tr>\n",
       "    <tr>\n",
       "      <th>7369</th>\n",
       "      <td>85.000000</td>\n",
       "    </tr>\n",
       "  </tbody>\n",
       "</table>\n",
       "</div>"
      ],
      "text/plain": [
       "                 price\n",
       "listing_id            \n",
       "3335        120.000000\n",
       "4291         82.000000\n",
       "5682         53.944984\n",
       "6606         92.849315\n",
       "7369         85.000000"
      ]
     },
     "execution_count": 41,
     "metadata": {},
     "output_type": "execute_result"
    }
   ],
   "source": [
    "df4.head()"
   ]
  },
  {
   "cell_type": "markdown",
   "id": "17dd55fe",
   "metadata": {},
   "source": [
    "Preparing the listings dataset for a merge with the prepared calendar dataset\n",
    "\n",
    "***Check for Nan Values***"
   ]
  },
  {
   "cell_type": "code",
   "execution_count": 42,
   "id": "a9798f35",
   "metadata": {},
   "outputs": [
    {
     "data": {
      "text/plain": [
       "review_scores_rating    0.16946\n",
       "dtype: float64"
      ]
     },
     "execution_count": 42,
     "metadata": {},
     "output_type": "execute_result"
    }
   ],
   "source": [
    "df_listings[['review_scores_rating']].isnull().mean()"
   ]
  },
  {
   "cell_type": "markdown",
   "id": "28b52201",
   "metadata": {},
   "source": [
    "***Drop Nans and select required columns***\n",
    "\n",
    "Similar to the Nans in the calendar dataset, Nans will not help us to correlate average prices of the listings with the ratings column, hence, they need to be dropped"
   ]
  },
  {
   "cell_type": "code",
   "execution_count": 43,
   "id": "77b1badf",
   "metadata": {},
   "outputs": [],
   "source": [
    "df5 = df_listings.dropna(subset='review_scores_rating')"
   ]
  },
  {
   "cell_type": "code",
   "execution_count": 44,
   "id": "f8656454",
   "metadata": {},
   "outputs": [],
   "source": [
    "df6 = df5[['id','review_scores_rating']]"
   ]
  },
  {
   "cell_type": "markdown",
   "id": "10e70dc8",
   "metadata": {},
   "source": [
    "***Merge listings dataset with calendar dataset***\n",
    "\n",
    "An inner merge was necessary so that only listings common to both datasets would remain after the merge. This would make it easy to correlate the columns"
   ]
  },
  {
   "cell_type": "code",
   "execution_count": 45,
   "id": "ac467a0d",
   "metadata": {},
   "outputs": [],
   "source": [
    "inner_merged_df7 = pd.merge(df4, df6, left_on='listing_id', right_on='id')"
   ]
  },
  {
   "cell_type": "code",
   "execution_count": 46,
   "id": "78021010",
   "metadata": {},
   "outputs": [
    {
     "data": {
      "text/plain": [
       "(3101, 3)"
      ]
     },
     "execution_count": 46,
     "metadata": {},
     "output_type": "execute_result"
    }
   ],
   "source": [
    "inner_merged_df7.shape"
   ]
  },
  {
   "cell_type": "code",
   "execution_count": 47,
   "id": "f814a6a3",
   "metadata": {},
   "outputs": [
    {
     "data": {
      "text/html": [
       "<div>\n",
       "<style scoped>\n",
       "    .dataframe tbody tr th:only-of-type {\n",
       "        vertical-align: middle;\n",
       "    }\n",
       "\n",
       "    .dataframe tbody tr th {\n",
       "        vertical-align: top;\n",
       "    }\n",
       "\n",
       "    .dataframe thead th {\n",
       "        text-align: right;\n",
       "    }\n",
       "</style>\n",
       "<table border=\"1\" class=\"dataframe\">\n",
       "  <thead>\n",
       "    <tr style=\"text-align: right;\">\n",
       "      <th></th>\n",
       "      <th>price</th>\n",
       "      <th>id</th>\n",
       "      <th>review_scores_rating</th>\n",
       "    </tr>\n",
       "  </thead>\n",
       "  <tbody>\n",
       "    <tr>\n",
       "      <th>0</th>\n",
       "      <td>82.000000</td>\n",
       "      <td>4291</td>\n",
       "      <td>92.0</td>\n",
       "    </tr>\n",
       "    <tr>\n",
       "      <th>1</th>\n",
       "      <td>53.944984</td>\n",
       "      <td>5682</td>\n",
       "      <td>96.0</td>\n",
       "    </tr>\n",
       "    <tr>\n",
       "      <th>2</th>\n",
       "      <td>92.849315</td>\n",
       "      <td>6606</td>\n",
       "      <td>93.0</td>\n",
       "    </tr>\n",
       "    <tr>\n",
       "      <th>3</th>\n",
       "      <td>85.000000</td>\n",
       "      <td>7369</td>\n",
       "      <td>94.0</td>\n",
       "    </tr>\n",
       "    <tr>\n",
       "      <th>4</th>\n",
       "      <td>85.616438</td>\n",
       "      <td>9419</td>\n",
       "      <td>91.0</td>\n",
       "    </tr>\n",
       "  </tbody>\n",
       "</table>\n",
       "</div>"
      ],
      "text/plain": [
       "       price    id  review_scores_rating\n",
       "0  82.000000  4291                  92.0\n",
       "1  53.944984  5682                  96.0\n",
       "2  92.849315  6606                  93.0\n",
       "3  85.000000  7369                  94.0\n",
       "4  85.616438  9419                  91.0"
      ]
     },
     "execution_count": 47,
     "metadata": {},
     "output_type": "execute_result"
    }
   ],
   "source": [
    "inner_merged_df7.head()"
   ]
  },
  {
   "cell_type": "markdown",
   "id": "5c18c63a",
   "metadata": {},
   "source": [
    "As can be seen from the above cells, the dataset has further dropped to 3101 listings which have the necessary values for a valuable correlation. "
   ]
  },
  {
   "cell_type": "markdown",
   "id": "89387aa5",
   "metadata": {},
   "source": [
    "<h3 id='q1'>Section 5: Evaluation of results</h3>\n",
    "\n",
    "Now, the data is ready for analysis using scatter plots and correlation coefficient"
   ]
  },
  {
   "cell_type": "markdown",
   "id": "7c03e47c",
   "metadata": {},
   "source": [
    "<h4 id='q1'>Solution to Question 1</h4> Is there a correlation between listings with higher ratings and price tag ?\n",
    "\n",
    "***Plot your data***"
   ]
  },
  {
   "cell_type": "code",
   "execution_count": 48,
   "id": "f85ab87a",
   "metadata": {},
   "outputs": [
    {
     "data": {
      "text/plain": [
       "<AxesSubplot:xlabel='review_scores_rating', ylabel='price'>"
      ]
     },
     "execution_count": 48,
     "metadata": {},
     "output_type": "execute_result"
    },
    {
     "data": {
      "image/png": "[encoded data removed]",
      "text/plain": [
       "<Figure size 640x480 with 1 Axes>"
      ]
     },
     "metadata": {},
     "output_type": "display_data"
    }
   ],
   "source": [
    "sns.scatterplot(x=\"review_scores_rating\", y=\"price\", data=inner_merged_df7)"
   ]
  },
  {
   "cell_type": "markdown",
   "id": "7f9e7071",
   "metadata": {},
   "source": [
    "***Calculate correlation coefficient***"
   ]
  },
  {
   "cell_type": "code",
   "execution_count": 49,
   "id": "8c5fdf85",
   "metadata": {},
   "outputs": [
    {
     "data": {
      "text/plain": [
       "PearsonRResult(statistic=0.06487541572111183, pvalue=0.00030029563280570363)"
      ]
     },
     "execution_count": 49,
     "metadata": {},
     "output_type": "execute_result"
    }
   ],
   "source": [
    "\n",
    "stats.pearsonr(inner_merged_df7['review_scores_rating'], inner_merged_df7['price'])"
   ]
  },
  {
   "cell_type": "markdown",
   "id": "23051ed9",
   "metadata": {},
   "source": [
    "A 6.5% correlation shows that pricier listings do not necessarily have higher ratings. The graph shows that there are sizable number of cheap listings with good ratings"
   ]
  },
  {
   "cell_type": "markdown",
   "id": "c98ad838",
   "metadata": {},
   "source": [
    "<h3 id='q1'>Section 2: Data Understanding 2</h3>\n",
    "\n",
    "To answer the second question, we need to understand the fields that will help us answer location based questions"
   ]
  },
  {
   "cell_type": "code",
   "execution_count": 50,
   "id": "af8e6504",
   "metadata": {},
   "outputs": [
    {
     "data": {
      "text/plain": [
       "0    10.0\n",
       "1    10.0\n",
       "2    10.0\n",
       "3     NaN\n",
       "4     9.0\n",
       "Name: review_scores_cleanliness, dtype: float64"
      ]
     },
     "execution_count": 50,
     "metadata": {},
     "output_type": "execute_result"
    }
   ],
   "source": [
    "df_listings['review_scores_cleanliness'].head()"
   ]
  },
  {
   "cell_type": "markdown",
   "id": "227ef44e",
   "metadata": {},
   "source": [
    "***Get number of unique values in the zipcode column***"
   ]
  },
  {
   "cell_type": "code",
   "execution_count": 51,
   "id": "4704d416",
   "metadata": {},
   "outputs": [
    {
     "data": {
      "text/plain": [
       "29"
      ]
     },
     "execution_count": 51,
     "metadata": {},
     "output_type": "execute_result"
    }
   ],
   "source": [
    "len(pd.unique(df_listings['zipcode']))"
   ]
  },
  {
   "cell_type": "markdown",
   "id": "afba2136",
   "metadata": {},
   "source": [
    "***Get number of unique values in the streets column***"
   ]
  },
  {
   "cell_type": "code",
   "execution_count": 52,
   "id": "62ad692e",
   "metadata": {},
   "outputs": [
    {
     "data": {
      "text/plain": [
       "1442"
      ]
     },
     "execution_count": 52,
     "metadata": {},
     "output_type": "execute_result"
    }
   ],
   "source": [
    "len(pd.unique(df_listings['street']))"
   ]
  },
  {
   "cell_type": "markdown",
   "id": "f5e0d423",
   "metadata": {},
   "source": [
    "As can be seen from the above, the streets column is too granular. Hence, we will use the zipcode column for locations"
   ]
  },
  {
   "cell_type": "markdown",
   "id": "6768b25f",
   "metadata": {},
   "source": [
    "***Get percentage of nulls***"
   ]
  },
  {
   "cell_type": "code",
   "execution_count": 53,
   "id": "cdee8a57",
   "metadata": {},
   "outputs": [
    {
     "data": {
      "text/plain": [
       "zipcode    0.001833\n",
       "dtype: float64"
      ]
     },
     "execution_count": 53,
     "metadata": {},
     "output_type": "execute_result"
    }
   ],
   "source": [
    "df_listings[['zipcode']].isnull().mean()"
   ]
  },
  {
   "cell_type": "markdown",
   "id": "05aa7585",
   "metadata": {},
   "source": [
    "<h3 id='q1'>Section 3: Data Preparation 2</h3>\n",
    "\n",
    "***Drop Nans and select required columns***\n",
    "\n",
    "Because we are trying to visualize the average prices per location (zipcode), a Nan value in the zipcode column is not helpful and is , hence, dropped"
   ]
  },
  {
   "cell_type": "code",
   "execution_count": 54,
   "id": "0dc8a952",
   "metadata": {},
   "outputs": [],
   "source": [
    "df11 = df_listings.dropna(subset='zipcode')"
   ]
  },
  {
   "cell_type": "code",
   "execution_count": 55,
   "id": "427284b0",
   "metadata": {},
   "outputs": [],
   "source": [
    "df12 = df11[['id','zipcode']]"
   ]
  },
  {
   "cell_type": "markdown",
   "id": "f20d1991",
   "metadata": {},
   "source": [
    "***Merge datasets***\n",
    "\n",
    "We merge the listings dataset containing the zipcodes with the calendar dataset with average prices per listing"
   ]
  },
  {
   "cell_type": "code",
   "execution_count": 56,
   "id": "aa01d91d",
   "metadata": {},
   "outputs": [],
   "source": [
    "inner_merged_df13 = pd.merge(df4, df12, left_on='listing_id', right_on='id')"
   ]
  },
  {
   "cell_type": "markdown",
   "id": "3ed5c641",
   "metadata": {},
   "source": [
    "<h3 id='q1'>Section 5: Evaluation of results 2</h3>\n",
    "\n",
    "Now, the data is ready for analysis using aggregated tables"
   ]
  },
  {
   "cell_type": "markdown",
   "id": "84413ac3",
   "metadata": {},
   "source": [
    "***Group zipcodes by average prices and sort in descending order***"
   ]
  },
  {
   "cell_type": "code",
   "execution_count": 57,
   "id": "ade002ae",
   "metadata": {},
   "outputs": [],
   "source": [
    "df14 = inner_merged_df13.groupby('zipcode').agg({'price':'mean'}).sort_values('price',ascending=False)"
   ]
  },
  {
   "cell_type": "markdown",
   "id": "d6c40ce8",
   "metadata": {},
   "source": [
    "<h4 id='q1'>Solution to Question 2</h4> Are some locations generally more expensive than other locations ?\n",
    "\n",
    "***Get Most Expensive zipcodes***"
   ]
  },
  {
   "cell_type": "code",
   "execution_count": 58,
   "id": "a68bd9ad",
   "metadata": {},
   "outputs": [
    {
     "data": {
      "text/html": [
       "<div>\n",
       "<style scoped>\n",
       "    .dataframe tbody tr th:only-of-type {\n",
       "        vertical-align: middle;\n",
       "    }\n",
       "\n",
       "    .dataframe tbody tr th {\n",
       "        vertical-align: top;\n",
       "    }\n",
       "\n",
       "    .dataframe thead th {\n",
       "        text-align: right;\n",
       "    }\n",
       "</style>\n",
       "<table border=\"1\" class=\"dataframe\">\n",
       "  <thead>\n",
       "    <tr style=\"text-align: right;\">\n",
       "      <th></th>\n",
       "      <th>price</th>\n",
       "    </tr>\n",
       "    <tr>\n",
       "      <th>zipcode</th>\n",
       "      <th></th>\n",
       "    </tr>\n",
       "  </thead>\n",
       "  <tbody>\n",
       "    <tr>\n",
       "      <th>98134</th>\n",
       "      <td>213.401463</td>\n",
       "    </tr>\n",
       "    <tr>\n",
       "      <th>98101</th>\n",
       "      <td>194.623749</td>\n",
       "    </tr>\n",
       "    <tr>\n",
       "      <th>98199</th>\n",
       "      <td>186.698470</td>\n",
       "    </tr>\n",
       "    <tr>\n",
       "      <th>98121</th>\n",
       "      <td>183.572409</td>\n",
       "    </tr>\n",
       "    <tr>\n",
       "      <th>98119</th>\n",
       "      <td>175.977182</td>\n",
       "    </tr>\n",
       "  </tbody>\n",
       "</table>\n",
       "</div>"
      ],
      "text/plain": [
       "              price\n",
       "zipcode            \n",
       "98134    213.401463\n",
       "98101    194.623749\n",
       "98199    186.698470\n",
       "98121    183.572409\n",
       "98119    175.977182"
      ]
     },
     "execution_count": 58,
     "metadata": {},
     "output_type": "execute_result"
    }
   ],
   "source": [
    "df14.head()"
   ]
  },
  {
   "cell_type": "markdown",
   "id": "bb7f3b9c",
   "metadata": {},
   "source": [
    "***Get least expensive zipcodes***"
   ]
  },
  {
   "cell_type": "code",
   "execution_count": 59,
   "id": "80d87d63",
   "metadata": {},
   "outputs": [
    {
     "data": {
      "text/html": [
       "<div>\n",
       "<style scoped>\n",
       "    .dataframe tbody tr th:only-of-type {\n",
       "        vertical-align: middle;\n",
       "    }\n",
       "\n",
       "    .dataframe tbody tr th {\n",
       "        vertical-align: top;\n",
       "    }\n",
       "\n",
       "    .dataframe thead th {\n",
       "        text-align: right;\n",
       "    }\n",
       "</style>\n",
       "<table border=\"1\" class=\"dataframe\">\n",
       "  <thead>\n",
       "    <tr style=\"text-align: right;\">\n",
       "      <th></th>\n",
       "      <th>price</th>\n",
       "    </tr>\n",
       "    <tr>\n",
       "      <th>zipcode</th>\n",
       "      <th></th>\n",
       "    </tr>\n",
       "  </thead>\n",
       "  <tbody>\n",
       "    <tr>\n",
       "      <th>98125</th>\n",
       "      <td>91.957781</td>\n",
       "    </tr>\n",
       "    <tr>\n",
       "      <th>98133</th>\n",
       "      <td>89.064697</td>\n",
       "    </tr>\n",
       "    <tr>\n",
       "      <th>98106</th>\n",
       "      <td>86.692376</td>\n",
       "    </tr>\n",
       "    <tr>\n",
       "      <th>98108</th>\n",
       "      <td>86.681967</td>\n",
       "    </tr>\n",
       "    <tr>\n",
       "      <th>99\\n98122</th>\n",
       "      <td>67.000000</td>\n",
       "    </tr>\n",
       "  </tbody>\n",
       "</table>\n",
       "</div>"
      ],
      "text/plain": [
       "               price\n",
       "zipcode             \n",
       "98125      91.957781\n",
       "98133      89.064697\n",
       "98106      86.692376\n",
       "98108      86.681967\n",
       "99\\n98122  67.000000"
      ]
     },
     "execution_count": 59,
     "metadata": {},
     "output_type": "execute_result"
    }
   ],
   "source": [
    "df14.tail()"
   ]
  },
  {
   "cell_type": "markdown",
   "id": "5ebc9162",
   "metadata": {},
   "source": [
    "<h4 id='q1'>Solution to Question 3 and 4</h4>\n",
    "\n",
    "Do some locations get better cleanliness ratings ?\n",
    "\n",
    "Are expensive locations also the cleanest locations ?\n",
    "\n",
    "***Group zipcodes by mean cleanliness scores***"
   ]
  },
  {
   "cell_type": "code",
   "execution_count": 60,
   "id": "cda050b5",
   "metadata": {},
   "outputs": [],
   "source": [
    "df15 = df11.groupby('zipcode').agg({'review_scores_cleanliness':'mean'}).sort_values('review_scores_cleanliness',ascending=False)"
   ]
  },
  {
   "cell_type": "markdown",
   "id": "82bdefe6",
   "metadata": {},
   "source": [
    "***Get cleanest zipcodes***"
   ]
  },
  {
   "cell_type": "code",
   "execution_count": 61,
   "id": "c9b3d5e3",
   "metadata": {},
   "outputs": [
    {
     "data": {
      "text/html": [
       "<div>\n",
       "<style scoped>\n",
       "    .dataframe tbody tr th:only-of-type {\n",
       "        vertical-align: middle;\n",
       "    }\n",
       "\n",
       "    .dataframe tbody tr th {\n",
       "        vertical-align: top;\n",
       "    }\n",
       "\n",
       "    .dataframe thead th {\n",
       "        text-align: right;\n",
       "    }\n",
       "</style>\n",
       "<table border=\"1\" class=\"dataframe\">\n",
       "  <thead>\n",
       "    <tr style=\"text-align: right;\">\n",
       "      <th></th>\n",
       "      <th>review_scores_cleanliness</th>\n",
       "    </tr>\n",
       "    <tr>\n",
       "      <th>zipcode</th>\n",
       "      <th></th>\n",
       "    </tr>\n",
       "  </thead>\n",
       "  <tbody>\n",
       "    <tr>\n",
       "      <th>98116</th>\n",
       "      <td>9.788889</td>\n",
       "    </tr>\n",
       "    <tr>\n",
       "      <th>98178</th>\n",
       "      <td>9.750000</td>\n",
       "    </tr>\n",
       "    <tr>\n",
       "      <th>98126</th>\n",
       "      <td>9.744681</td>\n",
       "    </tr>\n",
       "    <tr>\n",
       "      <th>98119</th>\n",
       "      <td>9.739496</td>\n",
       "    </tr>\n",
       "    <tr>\n",
       "      <th>98177</th>\n",
       "      <td>9.733333</td>\n",
       "    </tr>\n",
       "  </tbody>\n",
       "</table>\n",
       "</div>"
      ],
      "text/plain": [
       "         review_scores_cleanliness\n",
       "zipcode                           \n",
       "98116                     9.788889\n",
       "98178                     9.750000\n",
       "98126                     9.744681\n",
       "98119                     9.739496\n",
       "98177                     9.733333"
      ]
     },
     "execution_count": 61,
     "metadata": {},
     "output_type": "execute_result"
    }
   ],
   "source": [
    "df15.head()"
   ]
  },
  {
   "cell_type": "markdown",
   "id": "e70a093e",
   "metadata": {},
   "source": [
    "***Get least clean zipcodes***"
   ]
  },
  {
   "cell_type": "code",
   "execution_count": 62,
   "id": "c500d664",
   "metadata": {},
   "outputs": [
    {
     "data": {
      "text/html": [
       "<div>\n",
       "<style scoped>\n",
       "    .dataframe tbody tr th:only-of-type {\n",
       "        vertical-align: middle;\n",
       "    }\n",
       "\n",
       "    .dataframe tbody tr th {\n",
       "        vertical-align: top;\n",
       "    }\n",
       "\n",
       "    .dataframe thead th {\n",
       "        text-align: right;\n",
       "    }\n",
       "</style>\n",
       "<table border=\"1\" class=\"dataframe\">\n",
       "  <thead>\n",
       "    <tr style=\"text-align: right;\">\n",
       "      <th></th>\n",
       "      <th>review_scores_cleanliness</th>\n",
       "    </tr>\n",
       "    <tr>\n",
       "      <th>zipcode</th>\n",
       "      <th></th>\n",
       "    </tr>\n",
       "  </thead>\n",
       "  <tbody>\n",
       "    <tr>\n",
       "      <th>98104</th>\n",
       "      <td>9.474359</td>\n",
       "    </tr>\n",
       "    <tr>\n",
       "      <th>98102</th>\n",
       "      <td>9.441176</td>\n",
       "    </tr>\n",
       "    <tr>\n",
       "      <th>98133</th>\n",
       "      <td>9.342857</td>\n",
       "    </tr>\n",
       "    <tr>\n",
       "      <th>98105</th>\n",
       "      <td>9.234286</td>\n",
       "    </tr>\n",
       "    <tr>\n",
       "      <th>99\\n98122</th>\n",
       "      <td>8.000000</td>\n",
       "    </tr>\n",
       "  </tbody>\n",
       "</table>\n",
       "</div>"
      ],
      "text/plain": [
       "           review_scores_cleanliness\n",
       "zipcode                             \n",
       "98104                       9.474359\n",
       "98102                       9.441176\n",
       "98133                       9.342857\n",
       "98105                       9.234286\n",
       "99\\n98122                   8.000000"
      ]
     },
     "execution_count": 62,
     "metadata": {},
     "output_type": "execute_result"
    }
   ],
   "source": [
    "df15.tail()"
   ]
  },
  {
   "cell_type": "markdown",
   "id": "25e3e30c",
   "metadata": {},
   "source": [
    "Since the zipcodes that are the most expensive do not occur in the top cleanest zipcodes, we can conclude that pricier loactions are not necessarily the cleanest which answers question 4"
   ]
  },
  {
   "cell_type": "code",
   "execution_count": null,
   "id": "5b564623",
   "metadata": {},
   "outputs": [],
   "source": []
  }
 ],
 "metadata": {
  "kernelspec": {
   "display_name": "Python 3 (ipykernel)",
   "language": "python",
   "name": "python3"
  },
  "language_info": {
   "codemirror_mode": {
    "name": "ipython",
    "version": 3
   },
   "file_extension": ".py",
   "mimetype": "text/x-python",
   "name": "python",
   "nbconvert_exporter": "python",
   "pygments_lexer": "ipython3",
   "version": "3.9.13"
  }
 },
 "nbformat": 4,
 "nbformat_minor": 5
}
